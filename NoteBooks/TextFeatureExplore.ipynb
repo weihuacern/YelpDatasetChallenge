{
 "cells": [
  {
   "cell_type": "code",
   "execution_count": 1,
   "metadata": {
    "collapsed": true
   },
   "outputs": [],
   "source": [
    "# Load modules for data accessing and plotting\n",
    "import pandas as pd\n",
    "import numpy as np\n",
    "import seaborn as sns\n",
    "import matplotlib.pyplot as plt\n",
    "%matplotlib inline"
   ]
  },
  {
   "cell_type": "code",
   "execution_count": 2,
   "metadata": {
    "collapsed": true
   },
   "outputs": [],
   "source": [
    "# Load NLP modules\n",
    "import re\n",
    "import sys\n",
    "import nltk\n",
    "from nltk.tokenize import RegexpTokenizer\n",
    "from nltk.util import ngrams"
   ]
  },
  {
   "cell_type": "code",
   "execution_count": null,
   "metadata": {
    "collapsed": true
   },
   "outputs": [],
   "source": [
    "#####################\n",
    "## Preprocess data ##\n",
    "#####################\n",
    "#token_pattern = \"[a-zA-Z'`]+\"\n",
    "token_pattern = \"[a-zA-Z0-9'`]+\"\n",
    "#token_pattern = r\"(?u)\\b\\w\\w+\\b\"\n",
    "def TextPreProcessing(line,\n",
    "                      token_pattern=token_pattern):\n",
    "    ## tokenize\n",
    "    tokenizer = RegexpTokenizer(token_pattern)\n",
    "    tokens = tokenizer.tokenize( str(line).lower() )\n",
    "    return tokens\n",
    "\n",
    "def Myngrams(text, nfold):\n",
    "    s = []\n",
    "    for ngram in ngrams(text, nfold):\n",
    "        s.append(' '.join(str(i) for i in ngram))\n",
    "\n",
    "    #s = list(set(s)) # unique string in the list\n",
    "    return s\n",
    "\n",
    "#print(Myngrams(TextPreProcessing('This is a token. This is a sentence. We are data scientists!', token_pattern), 2))"
   ]
  }
 ],
 "metadata": {
  "kernelspec": {
   "display_name": "Python 3",
   "language": "python",
   "name": "python3"
  },
  "language_info": {
   "codemirror_mode": {
    "name": "ipython",
    "version": 3
   },
   "file_extension": ".py",
   "mimetype": "text/x-python",
   "name": "python",
   "nbconvert_exporter": "python",
   "pygments_lexer": "ipython3",
   "version": "3.6.4"
  }
 },
 "nbformat": 4,
 "nbformat_minor": 2
}
